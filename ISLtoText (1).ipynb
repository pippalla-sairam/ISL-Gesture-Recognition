{
  "nbformat": 4,
  "nbformat_minor": 0,
  "metadata": {
    "colab": {
      "provenance": []
    },
    "kernelspec": {
      "name": "python3",
      "display_name": "Python 3"
    },
    "language_info": {
      "name": "python"
    }
  },
  "cells": [
    {
      "cell_type": "code",
      "execution_count": 34,
      "metadata": {
        "id": "_zTchvcIgMIh"
      },
      "outputs": [],
      "source": [
        "# Step 1: Import Libraries\n",
        "import os\n",
        "import cv2\n",
        "import numpy as np\n",
        "import matplotlib.pyplot as plt\n",
        "from tensorflow.keras.utils import to_categorical\n",
        "from tensorflow.keras.models import Sequential, load_model\n",
        "from tensorflow.keras.layers import Conv2D, MaxPooling2D, Flatten, BatchNormalization,Dense, Dropout\n",
        "from tensorflow.keras.preprocessing.image import ImageDataGenerator\n",
        "from sklearn.model_selection import train_test_split"
      ]
    },
    {
      "cell_type": "code",
      "source": [
        "# Step 2: Mount Google Drive\n",
        "from google.colab import drive\n",
        "drive.mount('/content/drive')"
      ],
      "metadata": {
        "colab": {
          "base_uri": "https://localhost:8080/"
        },
        "id": "1e_RnOMdgPz7",
        "outputId": "6ed33e44-852a-42a3-b92d-c4e9c03bedf8"
      },
      "execution_count": 18,
      "outputs": [
        {
          "output_type": "stream",
          "name": "stdout",
          "text": [
            "Drive already mounted at /content/drive; to attempt to forcibly remount, call drive.mount(\"/content/drive\", force_remount=True).\n"
          ]
        }
      ]
    },
    {
      "cell_type": "code",
      "source": [
        "# Step 3: Load Your Dataset\n",
        "data_dir = '/content/drive/My Drive/isl/ISL_Dataset'  # Update with your dataset path\n",
        "categories = os.listdir(data_dir)\n",
        "data = []\n",
        "labels = []"
      ],
      "metadata": {
        "id": "AzkS2N_NgZme"
      },
      "execution_count": 19,
      "outputs": []
    },
    {
      "cell_type": "code",
      "source": [
        "# Step 4: Data Preprocessing\n",
        "for category in categories:\n",
        "    path = os.path.join(data_dir, category)\n",
        "    class_num = categories.index(category)  # Label each class with an index\n",
        "    for img in os.listdir(path):\n",
        "        img_path = os.path.join(path, img)\n",
        "        try:\n",
        "            img_array = cv2.imread(img_path, cv2.IMREAD_GRAYSCALE)\n",
        "            resized_array = cv2.resize(img_array, (28, 28))  # Resize images to 64x64 pixels\n",
        "            data.append(resized_array)\n",
        "            labels.append(class_num)\n",
        "        except Exception as e:\n",
        "            print(f\"Error loading image {img_path}: {e}\")"
      ],
      "metadata": {
        "id": "eapISEhFgjVM"
      },
      "execution_count": 20,
      "outputs": []
    },
    {
      "cell_type": "code",
      "source": [
        "# Convert lists to numpy arrays\n",
        "data = np.array(data).reshape(-1, 28, 28, 1)\n",
        "data = data / 255.0  # Normalize the data\n",
        "labels = to_categorical(labels, num_classes=len(categories))"
      ],
      "metadata": {
        "id": "aDwiU6e5goNO"
      },
      "execution_count": 21,
      "outputs": []
    },
    {
      "cell_type": "code",
      "source": [
        "# Split the data into training and testing sets\n",
        "X_train, X_test, y_train, y_test = train_test_split(data, labels, test_size=0.2, random_state=42)"
      ],
      "metadata": {
        "id": "ondxDjr0hUXi"
      },
      "execution_count": 22,
      "outputs": []
    },
    {
      "cell_type": "code",
      "source": [
        "# Step 5: Build and Train the Model\n",
        "#import keras as keras\n",
        "#from keras.layers import BatchNormalization, Sequential, Conv2D, MaxPooling2D, Flatten, Dense, Dropout\n",
        "model = Sequential([\n",
        "    Conv2D(128, (3, 3), activation='relu', input_shape=(28, 28, 1)),\n",
        "    MaxPooling2D(2, 2),\n",
        "    Conv2D(64, (3, 3), activation='relu'),\n",
        "    MaxPooling2D(2, 2),\n",
        "    Flatten(),\n",
        "    Dense(128, activation='relu'),\n",
        "    Dropout(0.5),\n",
        "    Dense(len(categories), activation='softmax')\n",
        "])\n",
        "\n",
        "model.compile(optimizer='adam', loss='categorical_crossentropy', metrics=['accuracy'])"
      ],
      "metadata": {
        "id": "G9tneH2DhU9p"
      },
      "execution_count": 36,
      "outputs": []
    },
    {
      "cell_type": "code",
      "source": [
        "# Data augmentation\n",
        "datagen = ImageDataGenerator(\n",
        "    rotation_range=10,\n",
        "    zoom_range=0.2,\n",
        "    width_shift_range=0.1,\n",
        "    height_shift_range=0.1,\n",
        "    horizontal_flip=True\n",
        ")"
      ],
      "metadata": {
        "id": "VpE6DnR7hYV4"
      },
      "execution_count": 37,
      "outputs": []
    },
    {
      "cell_type": "code",
      "source": [
        "# Train the model\n",
        "history = model.fit(datagen.flow(X_train, y_train, batch_size=32),\n",
        "                    validation_data=(X_test, y_test),\n",
        "                    epochs=15)"
      ],
      "metadata": {
        "colab": {
          "base_uri": "https://localhost:8080/"
        },
        "id": "qE-faYGqhcfn",
        "outputId": "3e8f1bd8-cf23-46b5-9da0-e3baff3e0396"
      },
      "execution_count": 38,
      "outputs": [
        {
          "output_type": "stream",
          "name": "stdout",
          "text": [
            "Epoch 1/15\n",
            "18/18 [==============================] - 3s 99ms/step - loss: 3.1487 - accuracy: 0.0535 - val_loss: 3.1355 - val_accuracy: 0.0567\n",
            "Epoch 2/15\n",
            "18/18 [==============================] - 2s 84ms/step - loss: 3.1328 - accuracy: 0.0446 - val_loss: 3.1347 - val_accuracy: 0.0567\n",
            "Epoch 3/15\n",
            "18/18 [==============================] - 2s 86ms/step - loss: 3.1250 - accuracy: 0.0660 - val_loss: 3.1395 - val_accuracy: 0.0284\n",
            "Epoch 4/15\n",
            "18/18 [==============================] - 2s 88ms/step - loss: 3.1298 - accuracy: 0.0499 - val_loss: 3.1347 - val_accuracy: 0.0355\n",
            "Epoch 5/15\n",
            "18/18 [==============================] - 2s 83ms/step - loss: 3.1227 - accuracy: 0.0766 - val_loss: 3.1436 - val_accuracy: 0.0780\n",
            "Epoch 6/15\n",
            "18/18 [==============================] - 2s 100ms/step - loss: 3.1215 - accuracy: 0.0535 - val_loss: 3.1354 - val_accuracy: 0.0851\n",
            "Epoch 7/15\n",
            "18/18 [==============================] - 2s 134ms/step - loss: 3.1083 - accuracy: 0.0570 - val_loss: 3.1378 - val_accuracy: 0.0355\n",
            "Epoch 8/15\n",
            "18/18 [==============================] - 3s 141ms/step - loss: 3.1156 - accuracy: 0.0588 - val_loss: 3.1465 - val_accuracy: 0.0567\n",
            "Epoch 9/15\n",
            "18/18 [==============================] - 2s 87ms/step - loss: 3.0886 - accuracy: 0.0802 - val_loss: 3.1510 - val_accuracy: 0.0426\n",
            "Epoch 10/15\n",
            "18/18 [==============================] - 2s 83ms/step - loss: 3.1030 - accuracy: 0.0606 - val_loss: 3.1517 - val_accuracy: 0.0709\n",
            "Epoch 11/15\n",
            "18/18 [==============================] - 1s 82ms/step - loss: 3.0890 - accuracy: 0.0660 - val_loss: 3.1537 - val_accuracy: 0.0851\n",
            "Epoch 12/15\n",
            "18/18 [==============================] - 2s 87ms/step - loss: 3.0843 - accuracy: 0.0588 - val_loss: 3.1827 - val_accuracy: 0.0780\n",
            "Epoch 13/15\n",
            "18/18 [==============================] - 1s 82ms/step - loss: 3.0747 - accuracy: 0.0766 - val_loss: 3.1372 - val_accuracy: 0.0780\n",
            "Epoch 14/15\n",
            "18/18 [==============================] - 2s 122ms/step - loss: 3.0635 - accuracy: 0.0624 - val_loss: 3.1309 - val_accuracy: 0.0780\n",
            "Epoch 15/15\n",
            "18/18 [==============================] - 4s 217ms/step - loss: 3.0653 - accuracy: 0.0784 - val_loss: 3.1417 - val_accuracy: 0.0851\n"
          ]
        }
      ]
    },
    {
      "cell_type": "code",
      "source": [
        "# Save the model\n",
        "model.save('/content/drive/My Drive/isl_model.h5')"
      ],
      "metadata": {
        "colab": {
          "base_uri": "https://localhost:8080/"
        },
        "id": "As14m-FLhiSO",
        "outputId": "84477a8f-e229-4423-dc83-2f0b2ea3de42"
      },
      "execution_count": 39,
      "outputs": [
        {
          "output_type": "stream",
          "name": "stderr",
          "text": [
            "/usr/local/lib/python3.10/dist-packages/keras/src/engine/training.py:3103: UserWarning: You are saving your model as an HDF5 file via `model.save()`. This file format is considered legacy. We recommend using instead the native Keras format, e.g. `model.save('my_model.keras')`.\n",
            "  saving_api.save_model(\n"
          ]
        }
      ]
    },
    {
      "cell_type": "code",
      "source": [
        "# Step 6: Prediction Function\n",
        "def predict_gesture(img_path, model, categories):\n",
        "    img = cv2.imread(img_path, cv2.IMREAD_GRAYSCALE)\n",
        "    img = cv2.resize(img, (28, 28))\n",
        "    img = img.reshape(1, 28,28, 1) / 255.0\n",
        "\n",
        "    prediction = model.predict(img)\n",
        "    predicted_class = np.argmax(prediction)\n",
        "    predicted_letter = categories[predicted_class]\n",
        "    return predicted_letter"
      ],
      "metadata": {
        "id": "lXEw6ztQhko2"
      },
      "execution_count": 43,
      "outputs": []
    },
    {
      "cell_type": "code",
      "source": [
        "# Load the model and test a sample image\n",
        "model = load_model('/content/drive/My Drive/isl_model.h5')"
      ],
      "metadata": {
        "id": "0Tf5jqyyhsmW"
      },
      "execution_count": 44,
      "outputs": []
    },
    {
      "cell_type": "code",
      "source": [
        "import matplotlib.pyplot as plt\n",
        "import cv2\n",
        "\n",
        "# Step 7: Test with an Image\n",
        "test_image_path = '/content/drive/My Drive/B (1).jpg'  # Update with your test image path\n",
        "\n",
        "# Predict the gesture\n",
        "predicted_text = predict_gesture(test_image_path, model, categories)\n",
        "print(\"Predicted Text:\", predicted_text)\n",
        "\n",
        "# Load the image\n",
        "img = cv2.imread(test_image_path)\n",
        "img_rgb = cv2.cvtColor(img, cv2.COLOR_BGR2RGB)  # Convert from BGR to RGB for correct display\n",
        "\n",
        "# Display the image\n",
        "plt.figure(figsize=(5, 5))\n",
        "plt.imshow(img_rgb)\n",
        "plt.title(f\"Predicted Text: {predicted_text}\")\n",
        "plt.axis('off')  # Hide the axes\n",
        "plt.show()\n"
      ],
      "metadata": {
        "colab": {
          "base_uri": "https://localhost:8080/",
          "height": 479
        },
        "id": "tq5015XXhu2d",
        "outputId": "eaa778e8-d6fe-4f02-e7bd-2b98f9fc015e"
      },
      "execution_count": 46,
      "outputs": [
        {
          "output_type": "stream",
          "name": "stdout",
          "text": [
            "1/1 [==============================] - 0s 27ms/step\n",
            "Predicted Text: Q\n"
          ]
        },
        {
          "output_type": "display_data",
          "data": {
            "text/plain": [
              "<Figure size 500x500 with 1 Axes>"
            ],
            "image/png": "[encoded data removed]"
          },
          "metadata": {}
        }
      ]
    }
  ]
}